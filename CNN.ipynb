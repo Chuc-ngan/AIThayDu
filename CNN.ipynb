{
  "cells": [
    {
      "cell_type": "markdown",
      "metadata": {
        "id": "view-in-github",
        "colab_type": "text"
      },
      "source": [
        "<a href=\"https://colab.research.google.com/github/Chuc-ngan/AIThayDu/blob/main/CNN.ipynb\" target=\"_parent\"><img src=\"https://colab.research.google.com/assets/colab-badge.svg\" alt=\"Open In Colab\"/></a>"
      ]
    },
    {
      "cell_type": "code",
      "execution_count": null,
      "metadata": {
        "colab": {
          "base_uri": "https://localhost:8080/"
        },
        "id": "vZ6REhA9zITr",
        "outputId": "ea12b483-2459-4554-d450-5ab17a2d015c"
      },
      "outputs": [
        {
          "name": "stdout",
          "output_type": "stream",
          "text": [
            "Requirement already satisfied: opencv-python in /usr/local/lib/python3.11/dist-packages (4.11.0.86)\n",
            "Requirement already satisfied: tqdm in /usr/local/lib/python3.11/dist-packages (4.67.1)\n",
            "Requirement already satisfied: numpy>=1.21.2 in /usr/local/lib/python3.11/dist-packages (from opencv-python) (2.0.2)\n"
          ]
        }
      ],
      "source": [
        "pip install opencv-python tqdm"
      ]
    },
    {
      "cell_type": "code",
      "execution_count": null,
      "metadata": {
        "colab": {
          "background_save": true,
          "base_uri": "https://localhost:8080/"
        },
        "id": "2oVvY8i1hu3A",
        "outputId": "f277c9be-b635-4910-82fd-201cabea86d3"
      },
      "outputs": [
        {
          "name": "stdout",
          "output_type": "stream",
          "text": [
            "Requirement already satisfied: tensorflow==2.18.0 in /usr/local/lib/python3.11/dist-packages (2.18.0)\n",
            "Requirement already satisfied: absl-py>=1.0.0 in /usr/local/lib/python3.11/dist-packages (from tensorflow==2.18.0) (1.4.0)\n",
            "Requirement already satisfied: astunparse>=1.6.0 in /usr/local/lib/python3.11/dist-packages (from tensorflow==2.18.0) (1.6.3)\n",
            "Requirement already satisfied: flatbuffers>=24.3.25 in /usr/local/lib/python3.11/dist-packages (from tensorflow==2.18.0) (25.2.10)\n",
            "Requirement already satisfied: gast!=0.5.0,!=0.5.1,!=0.5.2,>=0.2.1 in /usr/local/lib/python3.11/dist-packages (from tensorflow==2.18.0) (0.6.0)\n",
            "Requirement already satisfied: google-pasta>=0.1.1 in /usr/local/lib/python3.11/dist-packages (from tensorflow==2.18.0) (0.2.0)\n",
            "Requirement already satisfied: libclang>=13.0.0 in /usr/local/lib/python3.11/dist-packages (from tensorflow==2.18.0) (18.1.1)\n",
            "Requirement already satisfied: opt-einsum>=2.3.2 in /usr/local/lib/python3.11/dist-packages (from tensorflow==2.18.0) (3.4.0)\n",
            "Requirement already satisfied: packaging in /usr/local/lib/python3.11/dist-packages (from tensorflow==2.18.0) (24.2)\n",
            "Requirement already satisfied: protobuf!=4.21.0,!=4.21.1,!=4.21.2,!=4.21.3,!=4.21.4,!=4.21.5,<6.0.0dev,>=3.20.3 in /usr/local/lib/python3.11/dist-packages (from tensorflow==2.18.0) (5.29.4)\n",
            "Requirement already satisfied: requests<3,>=2.21.0 in /usr/local/lib/python3.11/dist-packages (from tensorflow==2.18.0) (2.32.3)\n",
            "Requirement already satisfied: setuptools in /usr/local/lib/python3.11/dist-packages (from tensorflow==2.18.0) (75.2.0)\n",
            "Requirement already satisfied: six>=1.12.0 in /usr/local/lib/python3.11/dist-packages (from tensorflow==2.18.0) (1.17.0)\n",
            "Requirement already satisfied: termcolor>=1.1.0 in /usr/local/lib/python3.11/dist-packages (from tensorflow==2.18.0) (3.0.1)\n",
            "Requirement already satisfied: typing-extensions>=3.6.6 in /usr/local/lib/python3.11/dist-packages (from tensorflow==2.18.0) (4.13.1)\n",
            "Requirement already satisfied: wrapt>=1.11.0 in /usr/local/lib/python3.11/dist-packages (from tensorflow==2.18.0) (1.17.2)\n",
            "Requirement already satisfied: grpcio<2.0,>=1.24.3 in /usr/local/lib/python3.11/dist-packages (from tensorflow==2.18.0) (1.71.0)\n",
            "Requirement already satisfied: tensorboard<2.19,>=2.18 in /usr/local/lib/python3.11/dist-packages (from tensorflow==2.18.0) (2.18.0)\n",
            "Requirement already satisfied: keras>=3.5.0 in /usr/local/lib/python3.11/dist-packages (from tensorflow==2.18.0) (3.8.0)\n",
            "Requirement already satisfied: numpy<2.1.0,>=1.26.0 in /usr/local/lib/python3.11/dist-packages (from tensorflow==2.18.0) (2.0.2)\n",
            "Requirement already satisfied: h5py>=3.11.0 in /usr/local/lib/python3.11/dist-packages (from tensorflow==2.18.0) (3.13.0)\n",
            "Requirement already satisfied: ml-dtypes<0.5.0,>=0.4.0 in /usr/local/lib/python3.11/dist-packages (from tensorflow==2.18.0) (0.4.1)\n",
            "Requirement already satisfied: tensorflow-io-gcs-filesystem>=0.23.1 in /usr/local/lib/python3.11/dist-packages (from tensorflow==2.18.0) (0.37.1)\n",
            "Requirement already satisfied: wheel<1.0,>=0.23.0 in /usr/local/lib/python3.11/dist-packages (from astunparse>=1.6.0->tensorflow==2.18.0) (0.45.1)\n",
            "Requirement already satisfied: rich in /usr/local/lib/python3.11/dist-packages (from keras>=3.5.0->tensorflow==2.18.0) (13.9.4)\n",
            "Requirement already satisfied: namex in /usr/local/lib/python3.11/dist-packages (from keras>=3.5.0->tensorflow==2.18.0) (0.0.8)\n",
            "Requirement already satisfied: optree in /usr/local/lib/python3.11/dist-packages (from keras>=3.5.0->tensorflow==2.18.0) (0.15.0)\n",
            "Requirement already satisfied: charset-normalizer<4,>=2 in /usr/local/lib/python3.11/dist-packages (from requests<3,>=2.21.0->tensorflow==2.18.0) (3.4.1)\n",
            "Requirement already satisfied: idna<4,>=2.5 in /usr/local/lib/python3.11/dist-packages (from requests<3,>=2.21.0->tensorflow==2.18.0) (3.10)\n",
            "Requirement already satisfied: urllib3<3,>=1.21.1 in /usr/local/lib/python3.11/dist-packages (from requests<3,>=2.21.0->tensorflow==2.18.0) (2.3.0)\n",
            "Requirement already satisfied: certifi>=2017.4.17 in /usr/local/lib/python3.11/dist-packages (from requests<3,>=2.21.0->tensorflow==2.18.0) (2025.1.31)\n",
            "Requirement already satisfied: markdown>=2.6.8 in /usr/local/lib/python3.11/dist-packages (from tensorboard<2.19,>=2.18->tensorflow==2.18.0) (3.7)\n",
            "Requirement already satisfied: tensorboard-data-server<0.8.0,>=0.7.0 in /usr/local/lib/python3.11/dist-packages (from tensorboard<2.19,>=2.18->tensorflow==2.18.0) (0.7.2)\n",
            "Requirement already satisfied: werkzeug>=1.0.1 in /usr/local/lib/python3.11/dist-packages (from tensorboard<2.19,>=2.18->tensorflow==2.18.0) (3.1.3)\n",
            "Requirement already satisfied: MarkupSafe>=2.1.1 in /usr/local/lib/python3.11/dist-packages (from werkzeug>=1.0.1->tensorboard<2.19,>=2.18->tensorflow==2.18.0) (3.0.2)\n",
            "Requirement already satisfied: markdown-it-py>=2.2.0 in /usr/local/lib/python3.11/dist-packages (from rich->keras>=3.5.0->tensorflow==2.18.0) (3.0.0)\n",
            "Requirement already satisfied: pygments<3.0.0,>=2.13.0 in /usr/local/lib/python3.11/dist-packages (from rich->keras>=3.5.0->tensorflow==2.18.0) (2.18.0)\n",
            "Requirement already satisfied: mdurl~=0.1 in /usr/local/lib/python3.11/dist-packages (from markdown-it-py>=2.2.0->rich->keras>=3.5.0->tensorflow==2.18.0) (0.1.2)\n"
          ]
        }
      ],
      "source": [
        "!pip install tensorflow==2.18.0  # Thay đổi phiên bản theo nhu cầu"
      ]
    },
    {
      "cell_type": "markdown",
      "metadata": {
        "id": "F5Aq6mlhfC5M"
      },
      "source": [
        "# **1. Kết nối với Drive**"
      ]
    },
    {
      "cell_type": "code",
      "execution_count": null,
      "metadata": {
        "colab": {
          "background_save": true,
          "base_uri": "https://localhost:8080/"
        },
        "id": "1XT_xZbRWQvs",
        "outputId": "4464dc36-856f-465e-987f-20c775b22789"
      },
      "outputs": [
        {
          "ename": "ValueError",
          "evalue": "mount failed",
          "output_type": "error",
          "traceback": [
            "\u001b[0;31m---------------------------------------------------------------------------\u001b[0m",
            "\u001b[0;31mValueError\u001b[0m                                Traceback (most recent call last)",
            "\u001b[0;32m<ipython-input-2-f8df2e2f29b5>\u001b[0m in \u001b[0;36m<cell line: 0>\u001b[0;34m()\u001b[0m\n\u001b[1;32m      1\u001b[0m \u001b[0;32mfrom\u001b[0m \u001b[0mgoogle\u001b[0m\u001b[0;34m.\u001b[0m\u001b[0mcolab\u001b[0m \u001b[0;32mimport\u001b[0m \u001b[0mdrive\u001b[0m\u001b[0;34m\u001b[0m\u001b[0;34m\u001b[0m\u001b[0m\n\u001b[0;32m----> 2\u001b[0;31m \u001b[0mdrive\u001b[0m\u001b[0;34m.\u001b[0m\u001b[0mmount\u001b[0m\u001b[0;34m(\u001b[0m\u001b[0;34m'/content/gdrive'\u001b[0m\u001b[0;34m)\u001b[0m\u001b[0;34m\u001b[0m\u001b[0;34m\u001b[0m\u001b[0m\n\u001b[0m\u001b[1;32m      3\u001b[0m \u001b[0mget_ipython\u001b[0m\u001b[0;34m(\u001b[0m\u001b[0;34m)\u001b[0m\u001b[0;34m.\u001b[0m\u001b[0mrun_line_magic\u001b[0m\u001b[0;34m(\u001b[0m\u001b[0;34m'cd'\u001b[0m\u001b[0;34m,\u001b[0m \u001b[0;34m\"'/content/gdrive/MyDrive/ColabNotebooks/TieuLuan'\"\u001b[0m\u001b[0;34m)\u001b[0m\u001b[0;34m\u001b[0m\u001b[0;34m\u001b[0m\u001b[0m\n\u001b[1;32m      4\u001b[0m \u001b[0;34m\u001b[0m\u001b[0m\n\u001b[1;32m      5\u001b[0m \u001b[0mget_ipython\u001b[0m\u001b[0;34m(\u001b[0m\u001b[0;34m)\u001b[0m\u001b[0;34m.\u001b[0m\u001b[0msystem\u001b[0m\u001b[0;34m(\u001b[0m\u001b[0;34m'pwd'\u001b[0m\u001b[0;34m)\u001b[0m\u001b[0;34m\u001b[0m\u001b[0;34m\u001b[0m\u001b[0m\n",
            "\u001b[0;32m/usr/local/lib/python3.11/dist-packages/google/colab/drive.py\u001b[0m in \u001b[0;36mmount\u001b[0;34m(mountpoint, force_remount, timeout_ms, readonly)\u001b[0m\n\u001b[1;32m     98\u001b[0m \u001b[0;32mdef\u001b[0m \u001b[0mmount\u001b[0m\u001b[0;34m(\u001b[0m\u001b[0mmountpoint\u001b[0m\u001b[0;34m,\u001b[0m \u001b[0mforce_remount\u001b[0m\u001b[0;34m=\u001b[0m\u001b[0;32mFalse\u001b[0m\u001b[0;34m,\u001b[0m \u001b[0mtimeout_ms\u001b[0m\u001b[0;34m=\u001b[0m\u001b[0;36m120000\u001b[0m\u001b[0;34m,\u001b[0m \u001b[0mreadonly\u001b[0m\u001b[0;34m=\u001b[0m\u001b[0;32mFalse\u001b[0m\u001b[0;34m)\u001b[0m\u001b[0;34m:\u001b[0m\u001b[0;34m\u001b[0m\u001b[0;34m\u001b[0m\u001b[0m\n\u001b[1;32m     99\u001b[0m   \u001b[0;34m\"\"\"Mount your Google Drive at the specified mountpoint path.\"\"\"\u001b[0m\u001b[0;34m\u001b[0m\u001b[0;34m\u001b[0m\u001b[0m\n\u001b[0;32m--> 100\u001b[0;31m   return _mount(\n\u001b[0m\u001b[1;32m    101\u001b[0m       \u001b[0mmountpoint\u001b[0m\u001b[0;34m,\u001b[0m\u001b[0;34m\u001b[0m\u001b[0;34m\u001b[0m\u001b[0m\n\u001b[1;32m    102\u001b[0m       \u001b[0mforce_remount\u001b[0m\u001b[0;34m=\u001b[0m\u001b[0mforce_remount\u001b[0m\u001b[0;34m,\u001b[0m\u001b[0;34m\u001b[0m\u001b[0;34m\u001b[0m\u001b[0m\n",
            "\u001b[0;32m/usr/local/lib/python3.11/dist-packages/google/colab/drive.py\u001b[0m in \u001b[0;36m_mount\u001b[0;34m(mountpoint, force_remount, timeout_ms, ephemeral, readonly)\u001b[0m\n\u001b[1;32m    277\u001b[0m             \u001b[0;34m'https://research.google.com/colaboratory/faq.html#drive-timeout'\u001b[0m\u001b[0;34m\u001b[0m\u001b[0;34m\u001b[0m\u001b[0m\n\u001b[1;32m    278\u001b[0m         )\n\u001b[0;32m--> 279\u001b[0;31m       \u001b[0;32mraise\u001b[0m \u001b[0mValueError\u001b[0m\u001b[0;34m(\u001b[0m\u001b[0;34m'mount failed'\u001b[0m \u001b[0;34m+\u001b[0m \u001b[0mextra_reason\u001b[0m\u001b[0;34m)\u001b[0m\u001b[0;34m\u001b[0m\u001b[0;34m\u001b[0m\u001b[0m\n\u001b[0m\u001b[1;32m    280\u001b[0m     \u001b[0;32melif\u001b[0m \u001b[0mcase\u001b[0m \u001b[0;34m==\u001b[0m \u001b[0;36m4\u001b[0m\u001b[0;34m:\u001b[0m\u001b[0;34m\u001b[0m\u001b[0;34m\u001b[0m\u001b[0m\n\u001b[1;32m    281\u001b[0m       \u001b[0;31m# Terminate the DriveFS binary before killing bash.\u001b[0m\u001b[0;34m\u001b[0m\u001b[0;34m\u001b[0m\u001b[0m\n",
            "\u001b[0;31mValueError\u001b[0m: mount failed"
          ]
        }
      ],
      "source": [
        "from google.colab import drive\n",
        "drive.mount('/content/gdrive')\n",
        "%cd '/content/gdrive/MyDrive/ColabNotebooks/TieuLuan'\n",
        "\n",
        "!pwd"
      ]
    },
    {
      "cell_type": "markdown",
      "metadata": {
        "id": "0W28DwVsfKnW"
      },
      "source": [
        "# **2. Import thư viện**"
      ]
    },
    {
      "cell_type": "code",
      "execution_count": null,
      "metadata": {
        "colab": {
          "background_save": true
        },
        "id": "JAHdmh3gXMX1"
      },
      "outputs": [],
      "source": [
        "# ===================== 1. Xử lý dữ liệu =====================\n",
        "import os\n",
        "import shutil  # Quản lý tệp/thư mục\n",
        "import random\n",
        "import math\n",
        "import collections\n",
        "import numpy as np  # Xử lý số học\n",
        "import pandas as pd  # Xử lý dữ liệu CSV\n",
        "from pathlib import Path\n",
        "from PIL import Image, UnidentifiedImageError\n",
        "from tensorflow.keras.preprocessing.image import load_img, img_to_array\n",
        "from tensorflow.keras.utils import Sequence\n",
        "from tensorflow.keras.preprocessing.image import ImageDataGenerator\n",
        "from tqdm import tqdm\n",
        "import pickle\n",
        "# ===================== 2. Machine Learning =====================\n",
        "from sklearn.model_selection import train_test_split\n",
        "from sklearn.preprocessing import LabelEncoder\n",
        "from sklearn.metrics import accuracy_score, precision_score, recall_score, f1_score\n",
        "from sklearn.metrics import classification_report, confusion_matrix, roc_auc_score\n",
        "import seaborn as sns\n",
        "\n",
        "# ===================== 3. TensorFlow & Keras =====================\n",
        "import tensorflow as tf\n",
        "from tensorflow.keras.models import Model, Sequential, load_model\n",
        "from tensorflow.keras.optimizers import Adam\n",
        "from tensorflow.keras.utils import to_categorical, plot_model\n",
        "from tensorflow.keras.callbacks import ModelCheckpoint\n",
        "from tensorflow.keras import mixed_precision\n",
        "from tensorflow.keras.regularizers import l2\n",
        "from tensorflow.keras.preprocessing import image_dataset_from_directory\n",
        "from tensorflow.keras.callbacks import EarlyStopping\n",
        "from tensorflow.keras.callbacks import ReduceLROnPlateau\n",
        "\n",
        "# ===================== 4. Xây dựng mô hình =====================\n",
        "from tensorflow.keras.layers import (\n",
        "    Input, Conv2D, MaxPooling2D, UpSampling2D, BatchNormalization,\n",
        "    GlobalAveragePooling2D, Dense, Dropout, RepeatVector, Reshape, Flatten\n",
        ")\n",
        "from tensorflow.keras.applications import EfficientNetB0, ResNet50\n",
        "from keras.applications.inception_resnet_v2 import InceptionResNetV2, preprocess_input, decode_predictions\n",
        "from keras.layers import add, concatenate\n",
        "from keras import layers, backend as K\n",
        "\n",
        "# ===================== 5. Xử lý hình ảnh & Vẽ biểu đồ =====================\n",
        "import cv2 as cv\n",
        "import matplotlib.pyplot as plt\n",
        "\n",
        "# ===================== 6. Đặt Seed (Reproducibility) =====================\n",
        "tf.random.set_seed(42)  # Thay số 42 bằng giá trị seed mong muốn\n",
        "np.random.seed(1)\n"
      ]
    },
    {
      "cell_type": "markdown",
      "metadata": {
        "id": "fV9gV1e4QVE_"
      },
      "source": [
        "# **3. Cấu hình môi trường TensorFlow**"
      ]
    },
    {
      "cell_type": "code",
      "execution_count": null,
      "metadata": {
        "colab": {
          "base_uri": "https://localhost:8080/"
        },
        "id": "dDM-OVCO-ttq",
        "outputId": "2970cc50-d388-4a11-d98d-55c7b22ebd7f"
      },
      "outputs": [
        {
          "name": "stdout",
          "output_type": "stream",
          "text": [
            "TensorFlow is running on GPU: True\n"
          ]
        }
      ],
      "source": [
        "# Thiết lập GPU sử dụng bộ nhớ động (tránh lỗi thiếu bộ nhớ)\n",
        "gpu_devices = tf.config.list_physical_devices('GPU')\n",
        "if gpu_devices:\n",
        "    tf.config.experimental.set_memory_growth(gpu_devices[0], True)\n",
        "\n",
        "# Kiểm tra TensorFlow đang chạy trên GPU hay không\n",
        "print(\"TensorFlow is running on GPU:\", tf.test.is_built_with_cuda())\n",
        "# Bật chế độ Mixed Precision để tăng tốc (nếu GPU hỗ trợ)\n",
        "# Thiết lập mixed precision\n",
        "policy = mixed_precision.Policy('mixed_float16')\n",
        "mixed_precision.set_global_policy(policy)\n",
        "\n",
        "# Bật XLA với cấu hình tối ưu\n",
        "tf.config.optimizer.set_jit(True)\n",
        "tf.config.optimizer.set_experimental_options({\n",
        "    \"layout_optimizer\": True,\n",
        "    \"constant_folding\": True,\n",
        "    \"shape_optimization\": True,\n",
        "    \"remapping\": True,\n",
        "    \"arithmetic_optimization\": True,\n",
        "    \"dependency_optimization\": True,\n",
        "    \"loop_optimization\": True,\n",
        "    \"function_optimization\": True,\n",
        "    \"debug_stripper\": True\n",
        "})"
      ]
    },
    {
      "cell_type": "markdown",
      "metadata": {
        "id": "7WZ7kX1nNJKV"
      },
      "source": [
        "# **4. Configuration**"
      ]
    },
    {
      "cell_type": "code",
      "execution_count": null,
      "metadata": {
        "id": "smjji7qiydwu"
      },
      "outputs": [],
      "source": [
        "# Đường dẫn thư mục gốc\n",
        "data_dir = \"dataset/images\"\n",
        "\n",
        "# Thư mục đích\n",
        "train_dir = \"dataset/train\"\n",
        "val_dir = \"dataset/validation\"\n",
        "test_dir = \"dataset/test\"\n",
        "\n",
        "# Thư mục thiếu sáng\n",
        "low_light_dir = \"dataset/low_light\"\n",
        "\n",
        "low_light_noise_dir = \"dataset/low_light_noise\"\n",
        "\n",
        "# Thư mục chứa ảnh sau khi tăng cường\n",
        "enhanced_image_low_light_dir = \"dataset/enhanced_cnn_low_light\"\n",
        "enhanced_image_low_light_noise_dir = \"dataset/enhanced_cnn_low_light_noise\"\n",
        "\n",
        "SPLIT_RATIO = 0.5  # Chỉ lấy 50%\n",
        "# Configuration\n",
        "IMG_SIZE = 224  # Slightly larger for more detail\n",
        "CHANEL = 3\n",
        "BATCH_SIZE = 32\n",
        "EPOCHS = 3\n",
        "VAL_SPLIT = 0.2\n",
        "RANDOM_SEED = 42"
      ]
    },
    {
      "cell_type": "markdown",
      "metadata": {
        "id": "7yT9x7f-fK-5"
      },
      "source": [
        "# **5. Khởi tạo mô hình InstantiateModel**\n",
        "Xây dựng mạng CNN:\n",
        "- Nhiều nhánh (multi-branch CNN) giúp học được nhiều đặc trưng ảnh.\n",
        "- Sử dụng phép cộng (add()) để kết hợp thông tin từ các nhánh.\n",
        "- Giảm dần số lượng kênh từ đầu vào → trích xuất đặc trưng → tái tạo ảnh."
      ]
    },
    {
      "cell_type": "code",
      "execution_count": null,
      "metadata": {
        "id": "HJ30IcKbfO7f"
      },
      "outputs": [],
      "source": [
        "def get_matched_image_pairs(normal_dir, low_light_dir):\n",
        "    def load_image_paths(directory):\n",
        "        extensions = {\".jpg\", \".jpeg\", \".png\", \".bmp\"}\n",
        "        return [os.path.join(root, f)\n",
        "                for root, _, files in os.walk(directory)\n",
        "                for f in files\n",
        "                if os.path.splitext(f.lower())[1] in extensions]\n",
        "\n",
        "    # Load all image paths\n",
        "    normal_images = load_image_paths(normal_dir)\n",
        "    low_light_images = load_image_paths(low_light_dir)\n",
        "\n",
        "    # Create filename to path mapping (without extension)\n",
        "    normal_map = {os.path.splitext(os.path.basename(p))[0]: p for p in normal_images}\n",
        "    low_light_map = {os.path.splitext(os.path.basename(p))[0]: p for p in low_light_images}\n",
        "\n",
        "    # Find common filenames\n",
        "    common_keys = set(normal_map.keys()) & set(low_light_map.keys())\n",
        "    print(f\"Found {len(common_keys)} matched image pairs\")\n",
        "\n",
        "    # Verify images actually match by checking dimensions\n",
        "    verified_pairs = []\n",
        "    for key in tqdm(common_keys, desc=\"Verifying image pairs\"):\n",
        "        try:\n",
        "            # Quick check without loading full image\n",
        "            normal_shape = cv.imread(normal_map[key], cv.IMREAD_UNCHANGED).shape\n",
        "            low_shape = cv.imread(low_light_map[key], cv.IMREAD_UNCHANGED).shape\n",
        "\n",
        "            if len(normal_shape) == 3 and len(low_shape) == 3:  # Both are color images\n",
        "                verified_pairs.append((normal_map[key], low_light_map[key]))\n",
        "        except:\n",
        "            continue\n",
        "\n",
        "    print(f\"{len(verified_pairs)} pairs passed verification\")\n",
        "    return list(zip(*verified_pairs))  # Returns (normal_images, low_light_images)\n",
        "\n",
        "# Load and verify image pairs\n",
        "normal_images, low_light_images = get_matched_image_pairs(train_dir, low_light_dir)"
      ]
    },
    {
      "cell_type": "code",
      "execution_count": null,
      "metadata": {
        "id": "Uq_lCi6XfZj8"
      },
      "outputs": [],
      "source": [
        "def save_verified_pairs(pairs, save_path=\"verified_pairs.pkl\"):\n",
        "    with open(save_path, \"wb\") as f:\n",
        "        pickle.dump(pairs, f)\n",
        "    print(f\"Saved verified pairs to {save_path}\")\n",
        "save_verified_pairs((normal_images, low_light_images))"
      ]
    },
    {
      "cell_type": "code",
      "execution_count": null,
      "metadata": {
        "id": "mIBb64_nfbQr"
      },
      "outputs": [],
      "source": [
        "def load_verified_pairs(path=\"verified_pairs.pkl\"):\n",
        "    with open(path, \"rb\") as f:\n",
        "        normal_images, low_light_images = pickle.load(f)\n",
        "    print(f\"Loaded {len(normal_images)} verified pairs\")\n",
        "    return normal_images, low_light_images\n",
        "\n",
        "normal_images, low_light_images = load_verified_pairs()"
      ]
    },
    {
      "cell_type": "code",
      "execution_count": null,
      "metadata": {
        "id": "m4bi7wVDfdp4"
      },
      "outputs": [],
      "source": [
        "def display_sample_pair(normal_path, low_path):\n",
        "    plt.figure(figsize=(10, 5))\n",
        "\n",
        "    plt.subplot(1, 2, 1)\n",
        "    plt.imshow(cv.cvtColor(cv.imread(low_path), cv.COLOR_BGR2RGB))\n",
        "    plt.title(\"Low Light\")\n",
        "\n",
        "    plt.subplot(1, 2, 2)\n",
        "    plt.imshow(cv.cvtColor(cv.imread(normal_path), cv.COLOR_BGR2RGB))\n",
        "    plt.title(\"Normal\")\n",
        "\n",
        "    plt.show()\n",
        "\n",
        "# Hiển thị 5 cặp ngẫu nhiên\n",
        "for i in np.random.choice(len(normal_images), 10):\n",
        "    display_sample_pair(normal_images[i], low_light_images[i])"
      ]
    },
    {
      "cell_type": "code",
      "execution_count": null,
      "metadata": {
        "id": "pvuEhA-BffB7"
      },
      "outputs": [],
      "source": [
        "# Train-validation split\n",
        "train_norm, val_norm, train_low, val_low = train_test_split(\n",
        "    normal_images, low_light_images,\n",
        "    test_size=VAL_SPLIT,\n",
        "    random_state=RANDOM_SEED\n",
        ")\n",
        "\n",
        "print(f\"Training samples: {len(train_norm)}, Validation samples: {len(val_norm)}\")\n",
        "\n",
        "class DataGenerator:\n",
        "    def __init__(self, normal_images, low_light_images, batch_size, img_size):\n",
        "        self.normal = normal_images\n",
        "        self.low = low_light_images\n",
        "        self.batch_size = batch_size\n",
        "        self.img_size = img_size\n",
        "        self.indices = np.arange(len(normal_images))\n",
        "\n",
        "    def __len__(self):\n",
        "        return len(self.normal) // self.batch_size\n",
        "\n",
        "    def __call__(self):\n",
        "        while True:\n",
        "            np.random.shuffle(self.indices)\n",
        "            for i in range(0, len(self.indices), self.batch_size):\n",
        "                batch_indices = self.indices[i:i+self.batch_size]\n",
        "                batch_normal = []\n",
        "                batch_low = []\n",
        "\n",
        "                for idx in batch_indices:\n",
        "                    # Load images\n",
        "                    norm_img = cv.imread(self.normal[idx])\n",
        "                    low_img = cv.imread(self.low[idx])\n",
        "\n",
        "                    # Convert to RGB and resize\n",
        "                    norm_img = cv.cvtColor(norm_img, cv.COLOR_BGR2RGB)\n",
        "                    low_img = cv.cvtColor(low_img, cv.COLOR_BGR2RGB)\n",
        "\n",
        "                    norm_img = cv.resize(norm_img, self.img_size)\n",
        "                    low_img = cv.resize(low_img, self.img_size)\n",
        "\n",
        "                    # Normalize to [0,1]\n",
        "                    norm_img = norm_img.astype(np.float32) / 255.0\n",
        "                    low_img = low_img.astype(np.float32) / 255.0\n",
        "\n",
        "                    # Simple data augmentation - random flip\n",
        "                    if np.random.rand() > 0.5:\n",
        "                        norm_img = np.fliplr(norm_img)\n",
        "                        low_img = np.fliplr(low_img)\n",
        "\n",
        "                    batch_normal.append(norm_img)\n",
        "                    batch_low.append(low_img)\n",
        "\n",
        "                yield np.array(batch_low), np.array(batch_normal)\n",
        "\n",
        "# Create data generators\n",
        "train_gen = DataGenerator(train_norm, train_low, BATCH_SIZE, (IMG_SIZE, IMG_SIZE))()\n",
        "val_gen = DataGenerator(val_norm, val_low, BATCH_SIZE, (IMG_SIZE, IMG_SIZE))()"
      ]
    },
    {
      "cell_type": "code",
      "execution_count": null,
      "metadata": {
        "id": "ZyyRX3dffg8C"
      },
      "outputs": [],
      "source": [
        "x, y = next(train_gen)\n",
        "print(x.shape, y.shape)  # Kiểm tra batch đầu tiên có load đúng không"
      ]
    },
    {
      "cell_type": "code",
      "execution_count": null,
      "metadata": {
        "id": "2u6-jpDKfiKk"
      },
      "outputs": [],
      "source": [
        "def InstantiateModel(in_):\n",
        "\n",
        "    model_1 = Conv2D(16,(3,3), activation='relu',padding='same',strides=1)(in_)\n",
        "    model_1 = Conv2D(32,(3,3), activation='relu',padding='same',strides=1)(model_1)\n",
        "    model_1 = Conv2D(64,(2,2), activation='relu',padding='same',strides=1)(model_1)\n",
        "\n",
        "    model_2 = Conv2D(32,(3,3), activation='relu',padding='same',strides=1)(in_)\n",
        "    model_2 = Conv2D(64,(2,2), activation='relu',padding='same',strides=1)(model_2)\n",
        "\n",
        "    model_2_0 = Conv2D(64,(2,2), activation='relu',padding='same',strides=1)(model_2)\n",
        "\n",
        "    model_add = add([model_1,model_2,model_2_0])\n",
        "\n",
        "    model_3 = Conv2D(64,(3,3), activation='relu',padding='same',strides=1)(model_add)\n",
        "    model_3 = Conv2D(32,(3,3), activation='relu',padding='same',strides=1)(model_3)\n",
        "    model_3 = Conv2D(16,(2,2), activation='relu',padding='same',strides=1)(model_3)\n",
        "\n",
        "    model_3_1 = Conv2D(32,(3,3), activation='relu',padding='same',strides=1)(model_add)\n",
        "    model_3_1 = Conv2D(16,(2,2), activation='relu',padding='same',strides=1)(model_3_1)\n",
        "\n",
        "    model_3_2 = Conv2D(16,(2,2), activation='relu',padding='same',strides=1)(model_add)\n",
        "\n",
        "    model_add_2 = add([model_3_1,model_3_2,model_3])\n",
        "\n",
        "    model_4 = Conv2D(16,(3,3), activation='relu',padding='same',strides=1)(model_add_2)\n",
        "    model_4_1 = Conv2D(16,(3,3), activation='relu',padding='same',strides=1)(model_add)\n",
        "    #Extension\n",
        "    model_add_3 = add([model_4_1,model_add_2,model_4])\n",
        "\n",
        "    model_5 = Conv2D(16,(3,3), activation='relu',padding='same',strides=1)(model_add_3)\n",
        "    model_5 = Conv2D(16,(2,2), activation='relu',padding='same',strides=1)(model_add_3)\n",
        "\n",
        "    model_5 = Conv2D(3,(3,3), activation='relu',padding='same',strides=1)(model_5)\n",
        "\n",
        "    return model_5"
      ]
    },
    {
      "cell_type": "code",
      "execution_count": null,
      "metadata": {
        "id": "MhPuVOVrfjun"
      },
      "outputs": [],
      "source": [
        "Input_Sample = Input(shape=(IMG_SIZE, IMG_SIZE, CHANEL)) # Đầu vào\n",
        "Output_ = InstantiateModel(Input_Sample) # Kết quả đầu ra\n",
        "Model_Enhancer = Model(inputs=Input_Sample, outputs=Output_)"
      ]
    },
    {
      "cell_type": "code",
      "execution_count": null,
      "metadata": {
        "id": "2SrvIMPQflCr"
      },
      "outputs": [],
      "source": [
        "Model_Enhancer.compile(optimizer=\"adam\", loss='mean_squared_error')\n",
        "Model_Enhancer.summary()"
      ]
    },
    {
      "cell_type": "code",
      "execution_count": null,
      "metadata": {
        "id": "eg561ht6fmWR"
      },
      "outputs": [],
      "source": [
        "plot_model(Model_Enhancer, to_file='model_simple.png', show_shapes=True, show_layer_names=True, rankdir='LR')  # Chuyển hướng sơ đồ từ trên xuống dưới\n",
        "from IPython.display import Image\n",
        "Image(retina=True, filename='model_simple.png')"
      ]
    },
    {
      "cell_type": "code",
      "execution_count": null,
      "metadata": {
        "id": "9Dy0GbLOfnuW"
      },
      "outputs": [],
      "source": [
        "steps_per_epoch_10percent = int(0.2 * len(train_norm) // BATCH_SIZE)\n",
        "val_steps_10percent = int(0.2 * len(val_norm) // BATCH_SIZE)"
      ]
    },
    {
      "cell_type": "code",
      "execution_count": null,
      "metadata": {
        "id": "m8DpeT5Afo8g"
      },
      "outputs": [],
      "source": [
        "checkpoint = ModelCheckpoint(\n",
        "    'model/model_enhance_cnn.weights.h5',  # Đúng định dạng\n",
        "    monitor='val_loss',  # Theo dõi validation loss\n",
        "    save_best_only=True,  # Chỉ lưu khi tốt hơn mô hình trước\n",
        "    save_weights_only=True,  # Chỉ lưu trọng số\n",
        "    mode='min',  # Giảm loss thì tốt hơn\n",
        "    verbose=1\n",
        ")\n",
        "\n",
        "# Fit model\n",
        "Model_Enhancer.fit(\n",
        "    train_gen,\n",
        "    validation_data=val_gen,\n",
        "    steps_per_epoch=steps_per_epoch_10percent,\n",
        "    validation_steps=val_steps_10percent,\n",
        "    epochs=5,  # có thể giảm xuống 3 để thử\n",
        "    verbose=1,\n",
        "    shuffle=True,\n",
        "    callbacks=[checkpoint]\n",
        ")"
      ]
    },
    {
      "cell_type": "code",
      "execution_count": null,
      "metadata": {
        "id": "CKoGyDvQfsPf"
      },
      "outputs": [],
      "source": [
        "# Load lại mô hình đã lưu\n",
        "model_path = \"model/model_enhance_cnn.weights.h5\"  # Đường dẫn file weights\n",
        "model = Model_Enhancer  # Sử dụng kiến trúc đã có\n",
        "model.load_weights(model_path)\n",
        "\n",
        "print(\"Mô hình đã được load thành công!\")"
      ]
    },
    {
      "cell_type": "code",
      "execution_count": null,
      "metadata": {
        "id": "ZLM9e04Lfurj"
      },
      "outputs": [],
      "source": [
        "def enhance_images(input_dir, output_dir, model, img_size=(224, 224)):\n",
        "    all_images = []\n",
        "\n",
        "    # Duyệt qua toàn bộ cấu trúc thư mục\n",
        "    for root, dirs, files in os.walk(input_dir):\n",
        "        relative_path = os.path.relpath(root, input_dir)\n",
        "        target_dir = os.path.join(output_dir, relative_path)\n",
        "        os.makedirs(target_dir, exist_ok=True)\n",
        "\n",
        "        # Lọc các tệp ảnh\n",
        "        image_paths = [os.path.join(root, f) for f in files if f.endswith((\".jpg\", \".png\"))]\n",
        "        all_images.extend([(img_path, target_dir) for img_path in image_paths])\n",
        "\n",
        "    # Thanh tiến trình duy nhất\n",
        "    with tqdm(total=len(all_images), desc=\"Enhancing images\", dynamic_ncols=True, leave=True) as pbar:\n",
        "    for img_path, target_dir in all_images:\n",
        "        img = cv.imread(img_path)\n",
        "        img = cv.cvtColor(img, cv.COLOR_BGR2RGB)\n",
        "        img = cv.resize(img, img_size)\n",
        "\n",
        "        img = img.astype(np.float32) / 255.0\n",
        "        img = np.expand_dims(img, axis=0)\n",
        "\n",
        "        # Dự đoán không in log\n",
        "        enhanced_img = model.predict(img, verbose=0)[0]\n",
        "        enhanced_img = (enhanced_img * 255).astype(np.uint8)\n",
        "\n",
        "        output_path = os.path.join(target_dir, os.path.basename(img_path))\n",
        "        cv.imwrite(output_path, cv.cvtColor(enhanced_img, cv.COLOR_RGB2BGR))\n",
        "\n",
        "        pbar.update(1)\n",
        "\n",
        "    print(f\"✅ Đã lưu {len(all_images)} ảnh cải thiện vào {output_dir}\")\n",
        "\n",
        "# Gọi hàm tăng cường ảnh\n",
        "enhance_images(low_light_test_dir, enhanced_image_dir, Model_Enhancer)"
      ]
    }
  ],
  "metadata": {
    "accelerator": "GPU",
    "colab": {
      "gpuType": "T4",
      "provenance": [],
      "toc_visible": true,
      "include_colab_link": true
    },
    "kernelspec": {
      "display_name": "Python 3",
      "name": "python3"
    },
    "language_info": {
      "name": "python"
    }
  },
  "nbformat": 4,
  "nbformat_minor": 0
}